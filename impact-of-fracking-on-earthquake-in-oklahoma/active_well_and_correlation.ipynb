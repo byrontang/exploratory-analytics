{
 "cells": [
  {
   "cell_type": "code",
   "execution_count": 9,
   "metadata": {
    "collapsed": false
   },
   "outputs": [],
   "source": [
    "import pandas as pd\n",
    "from dateutil.parser import parse\n",
    "%matplotlib inline\n",
    "import matplotlib.pyplot as plt\n",
    "import numpy as np\n",
    "\n",
    "#path = 'C:/Python 3.5.1/msba6310/Project/'\n",
    "path = 'C:/Users/byron/Documents/GitHub/msba-python-project/Files/processed-data/'\n",
    "well_production = pd.read_csv(path + 'well_production.csv')\n",
    "\n",
    "# Calculate production years by well\n",
    "well_production.FIRSTPRODDATE_x = [parse(x) for x in well_production.FIRSTPRODDATE_x]\n",
    "well_production.LASTPRODDATE = [parse(x) for x in well_production.LASTPRODDATE]\n",
    "\n",
    "well_production['Start_Year'] = well_production.FIRSTPRODDATE_x.dt.year\n",
    "well_production['End_Year'] = well_production.LASTPRODDATE.dt.year\n",
    "\n",
    "active_wells = well_production[['WELLID', 'COUNTY', 'CUMULATIVEOIL','SURFACELATITUDE','SURFACELONGITUDE',\\\n",
    "                                'WELLBOREPROFILE', 'Start_Year', 'End_Year']]\n",
    "active_wells.is_copy = False\n",
    "\n",
    "# Create dummy columns for year\n",
    "for i in range(1978, 2016):\n",
    "    temp_list = list((active_wells['End_Year'] >= i) & (active_wells['Start_Year'] <= i)) \n",
    "    active_wells[i] = temp_list\n",
    "    \n",
    "# Active wells per year\n",
    "by_welltype = active_wells.groupby('WELLBOREPROFILE').sum()\n",
    "by_welltype = by_welltype.transpose()[6:]\n",
    "    # Delete \"Unkonw\" column\n",
    "by_welltype = by_welltype.drop('Unknown', 1)\n",
    "by_welltype.columns = ['Directional', 'Horizontal', 'Vertical']\n",
    "\n",
    "# Active wells per year by county\n",
    "for_county = active_wells.ix[:, 8:]\n",
    "for_county['WELLBOREPROFILE'] = active_wells['WELLBOREPROFILE']\n",
    "for_county['COUNTY'] = active_wells['COUNTY']\n",
    "wells_by_county = for_county.groupby(['WELLBOREPROFILE','COUNTY']).sum().unstack()\n",
    "wells_by_county = wells_by_county.transpose()"
   ]
  },
  {
   "cell_type": "code",
   "execution_count": 10,
   "metadata": {
    "collapsed": false
   },
   "outputs": [
    {
     "data": {
      "text/html": [
       "<div>\n",
       "<table border=\"1\" class=\"dataframe\">\n",
       "  <thead>\n",
       "    <tr style=\"text-align: right;\">\n",
       "      <th>WELLBOREPROFILE</th>\n",
       "      <th>DIRECTIONAL</th>\n",
       "      <th>HORIZONTAL</th>\n",
       "      <th>Unknown</th>\n",
       "      <th>VERTICAL</th>\n",
       "      <th>0-2</th>\n",
       "      <th>2-4</th>\n",
       "      <th>5-6</th>\n",
       "      <th>Count</th>\n",
       "    </tr>\n",
       "    <tr>\n",
       "      <th>WELLBOREPROFILE</th>\n",
       "      <th></th>\n",
       "      <th></th>\n",
       "      <th></th>\n",
       "      <th></th>\n",
       "      <th></th>\n",
       "      <th></th>\n",
       "      <th></th>\n",
       "      <th></th>\n",
       "    </tr>\n",
       "  </thead>\n",
       "  <tbody>\n",
       "    <tr>\n",
       "      <th>DIRECTIONAL</th>\n",
       "      <td>1.000000</td>\n",
       "      <td>0.160958</td>\n",
       "      <td>-0.045053</td>\n",
       "      <td>0.111012</td>\n",
       "      <td>0.118344</td>\n",
       "      <td>0.006096</td>\n",
       "      <td>-0.004143</td>\n",
       "      <td>0.047515</td>\n",
       "    </tr>\n",
       "    <tr>\n",
       "      <th>HORIZONTAL</th>\n",
       "      <td>0.160958</td>\n",
       "      <td>1.000000</td>\n",
       "      <td>0.015929</td>\n",
       "      <td>0.004523</td>\n",
       "      <td>0.109311</td>\n",
       "      <td>0.195666</td>\n",
       "      <td>0.141305</td>\n",
       "      <td>0.191703</td>\n",
       "    </tr>\n",
       "    <tr>\n",
       "      <th>Unknown</th>\n",
       "      <td>-0.045053</td>\n",
       "      <td>0.015929</td>\n",
       "      <td>1.000000</td>\n",
       "      <td>0.125849</td>\n",
       "      <td>-0.030986</td>\n",
       "      <td>-0.023388</td>\n",
       "      <td>-0.021383</td>\n",
       "      <td>-0.029570</td>\n",
       "    </tr>\n",
       "    <tr>\n",
       "      <th>VERTICAL</th>\n",
       "      <td>0.111012</td>\n",
       "      <td>0.004523</td>\n",
       "      <td>0.125849</td>\n",
       "      <td>1.000000</td>\n",
       "      <td>-0.053545</td>\n",
       "      <td>-0.071511</td>\n",
       "      <td>-0.060616</td>\n",
       "      <td>-0.074982</td>\n",
       "    </tr>\n",
       "    <tr>\n",
       "      <th>0-2</th>\n",
       "      <td>0.118344</td>\n",
       "      <td>0.109311</td>\n",
       "      <td>-0.030986</td>\n",
       "      <td>-0.053545</td>\n",
       "      <td>1.000000</td>\n",
       "      <td>0.470219</td>\n",
       "      <td>0.408146</td>\n",
       "      <td>0.727075</td>\n",
       "    </tr>\n",
       "    <tr>\n",
       "      <th>2-4</th>\n",
       "      <td>0.006096</td>\n",
       "      <td>0.195666</td>\n",
       "      <td>-0.023388</td>\n",
       "      <td>-0.071511</td>\n",
       "      <td>0.470219</td>\n",
       "      <td>1.000000</td>\n",
       "      <td>0.804824</td>\n",
       "      <td>0.947804</td>\n",
       "    </tr>\n",
       "    <tr>\n",
       "      <th>5-6</th>\n",
       "      <td>-0.004143</td>\n",
       "      <td>0.141305</td>\n",
       "      <td>-0.021383</td>\n",
       "      <td>-0.060616</td>\n",
       "      <td>0.408146</td>\n",
       "      <td>0.804824</td>\n",
       "      <td>1.000000</td>\n",
       "      <td>0.774684</td>\n",
       "    </tr>\n",
       "    <tr>\n",
       "      <th>Count</th>\n",
       "      <td>0.047515</td>\n",
       "      <td>0.191703</td>\n",
       "      <td>-0.029570</td>\n",
       "      <td>-0.074982</td>\n",
       "      <td>0.727075</td>\n",
       "      <td>0.947804</td>\n",
       "      <td>0.774684</td>\n",
       "      <td>1.000000</td>\n",
       "    </tr>\n",
       "  </tbody>\n",
       "</table>\n",
       "</div>"
      ],
      "text/plain": [
       "WELLBOREPROFILE  DIRECTIONAL  HORIZONTAL   Unknown  VERTICAL       0-2  \\\n",
       "WELLBOREPROFILE                                                          \n",
       "DIRECTIONAL         1.000000    0.160958 -0.045053  0.111012  0.118344   \n",
       "HORIZONTAL          0.160958    1.000000  0.015929  0.004523  0.109311   \n",
       "Unknown            -0.045053    0.015929  1.000000  0.125849 -0.030986   \n",
       "VERTICAL            0.111012    0.004523  0.125849  1.000000 -0.053545   \n",
       "0-2                 0.118344    0.109311 -0.030986 -0.053545  1.000000   \n",
       "2-4                 0.006096    0.195666 -0.023388 -0.071511  0.470219   \n",
       "5-6                -0.004143    0.141305 -0.021383 -0.060616  0.408146   \n",
       "Count               0.047515    0.191703 -0.029570 -0.074982  0.727075   \n",
       "\n",
       "WELLBOREPROFILE       2-4       5-6     Count  \n",
       "WELLBOREPROFILE                                \n",
       "DIRECTIONAL      0.006096 -0.004143  0.047515  \n",
       "HORIZONTAL       0.195666  0.141305  0.191703  \n",
       "Unknown         -0.023388 -0.021383 -0.029570  \n",
       "VERTICAL        -0.071511 -0.060616 -0.074982  \n",
       "0-2              0.470219  0.408146  0.727075  \n",
       "2-4              1.000000  0.804824  0.947804  \n",
       "5-6              0.804824  1.000000  0.774684  \n",
       "Count            0.947804  0.774684  1.000000  "
      ]
     },
     "execution_count": 10,
     "metadata": {},
     "output_type": "execute_result"
    }
   ],
   "source": [
    "# Combine with earthquake data - county level\n",
    "earthquake = pd.read_csv(path + 'completeEarthquakeFreq.csv', index_col=1, parse_dates = True)\n",
    "earthquake.prefmag = pd.to_numeric(earthquake.prefmag)\n",
    "earthquake['0-2'] = list(earthquake.prefmag <= 2)\n",
    "earthquake['2-4'] = list((earthquake.prefmag > 2) & (earthquake.prefmag <=4))\n",
    "earthquake['5-6'] = list((earthquake.prefmag > 4) & (earthquake.prefmag <=6))\n",
    "earthquake['Count'] = 1\n",
    "earthquake['Year'] = earthquake.index.year\n",
    "earthquake = earthquake[earthquake['Year'] >= 1978]\n",
    "earthquake_by_county = earthquake.groupby(['Year','county']).sum()\n",
    "earthquake_by_county = earthquake_by_county.ix[:, 21:]\n",
    "\n",
    "wells_by_county.index.names = ['Year', 'County']\n",
    "earthquake_by_county.index.names = ['Year', 'County']\n",
    "wells_and_earthquake = pd.merge(wells_by_county, earthquake_by_county, how = 'left', left_index=True, right_index=True)\n",
    "wells_and_earthquake.corr()"
   ]
  },
  {
   "cell_type": "code",
   "execution_count": 11,
   "metadata": {
    "collapsed": false
   },
   "outputs": [],
   "source": [
    "# Combine with earthquake data - year level\n",
    "earthquake_by_year = earthquake.groupby('Year').count()\n",
    "earthquake_by_year = earthquake_by_year.ix[:, 30:]\n",
    "earthquake_by_year = earthquake_by_year.drop(earthquake_by_year.index[[len(earthquake_by_year)-1]])\n",
    "by_welltype.index.names = ['Year']\n",
    "earthquake_by_year.index.names = ['Year']\n",
    "earthquake_by_year.columns = ['0-2', '2-4', '4-6','Earthquake']\n",
    "wells_and_earthquake_yearly = pd.merge(by_welltype, earthquake_by_year, how = 'left', left_index=True, right_index=True)"
   ]
  },
  {
   "cell_type": "code",
   "execution_count": 12,
   "metadata": {
    "collapsed": false,
    "scrolled": true
   },
   "outputs": [
    {
     "data": {
      "image/png": "[encoded data removed]",
      "text/plain": [
       "<matplotlib.figure.Figure at 0x1a8b06d8>"
      ]
     },
     "metadata": {},
     "output_type": "display_data"
    }
   ],
   "source": [
    "# Plot active wells per year\n",
    "fig, ax1 = plt.subplots()\n",
    "ax2 = ax1.twinx()\n",
    "\n",
    "ax1.plot(by_welltype)\n",
    "ax1.set_yscale('log')\n",
    "ax1.legend(by_welltype, loc = 'center left')\n",
    "#ax2.plot(earthquake_by_year['Earthquake'], 'k-.')\n",
    "#ax2.legend(loc = 'lower left')\n",
    "\n",
    "ax1.set_xlabel('Year')\n",
    "ax1.set_ylabel('Number of Active Wells (log)', color='g')\n",
    "#ax2.set_ylabel('Number of Earthquake', color='k')\n",
    "plt.title('Active Wells per Year')\n",
    "plt.show()"
   ]
  },
  {
   "cell_type": "code",
   "execution_count": 13,
   "metadata": {
    "collapsed": false
   },
   "outputs": [
    {
     "data": {
      "image/png": "[encoded data removed]",
      "text/plain": [
       "<matplotlib.figure.Figure at 0x158c9b38>"
      ]
     },
     "metadata": {},
     "output_type": "display_data"
    }
   ],
   "source": [
    "# Plot correlation matix\n",
    "wells_and_earthquake_yearly = wells_and_earthquake_yearly.drop(['0-2','2-4','4-6'], 1)\n",
    "corr = wells_and_earthquake_yearly.corr()\n",
    "def plot_correlation(dataframe, title=''):\n",
    "    lang_names = dataframe.columns.tolist()\n",
    "    tick_indices = np.arange(0.5, len(lang_names) + 0.5)\n",
    "    plt.figure()\n",
    "    plt.pcolor(dataframe.values, cmap='RdBu', vmin=-1, vmax=1)\n",
    "    colorbar = plt.colorbar()\n",
    "    plt.title(title)\n",
    "    plt.xticks(tick_indices, lang_names)\n",
    "    plt.yticks(tick_indices, lang_names)\n",
    "    \n",
    "plot_correlation(corr, title='Earthquake and Welltype Correlations')"
   ]
  }
 ],
 "metadata": {
  "kernelspec": {
   "display_name": "Python 2",
   "language": "python",
   "name": "python2"
  },
  "language_info": {
   "codemirror_mode": {
    "name": "ipython",
    "version": 2
   },
   "file_extension": ".py",
   "mimetype": "text/x-python",
   "name": "python",
   "nbconvert_exporter": "python",
   "pygments_lexer": "ipython2",
   "version": "2.7.11"
  }
 },
 "nbformat": 4,
 "nbformat_minor": 0
}
